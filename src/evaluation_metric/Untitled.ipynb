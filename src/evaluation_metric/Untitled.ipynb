{
 "cells": [
  {
   "cell_type": "code",
   "execution_count": 1,
   "metadata": {},
   "outputs": [],
   "source": [
    "import numpy as np\n",
    "import cv2\n",
    "from os.path import join\n",
    "import random\n",
    "import math \n",
    "import re \n",
    "from datetime import datetime\n",
    "from glob import glob\n",
    "from PIL import Image\n",
    "\n",
    "from ShufflePatchModel import ShufflePatchFeatureExtractor\n",
    "\n",
    "# from tensorflow.keras.applications import vgg16\n",
    "# from tensorflow.keras.applications.vgg16 import preprocess_input\n",
    "\n",
    "from vgg16_window_walker_lib_images import extract_windows, extract_window, get_rad_grid, MemoryGraph, PARAMETERS\n",
    "\n",
    "from itertools import chain\n",
    "\n",
    "\n",
    "\n",
    "input = torch.rand(1, 3, 32, 32)\n"
   ]
  },
  {
   "cell_type": "code",
   "execution_count": null,
   "metadata": {},
   "outputs": [],
   "source": []
  },
  {
   "cell_type": "code",
   "execution_count": null,
   "metadata": {},
   "outputs": [],
   "source": [
    "\n",
    "\n",
    "def key_point_grid(orb, frame, mask, grid_margin, stride):\n",
    "    # print('frame.shape, stride', frame.shape, mask.shape, stride)\n",
    "    grid_height = math.floor((frame.shape[0] - grid_margin*2) / stride)\n",
    "    grid_width = math.floor((frame.shape[1] - grid_margin*2) / stride)\n",
    "\n",
    "    # print('grid_width grid_height', grid_width, grid_height)\n",
    "    grid_offset_y = ((frame.shape[0] - grid_margin*2) % stride)/2.0 + grid_margin\n",
    "    grid_offset_x = ((frame.shape[1] - grid_margin*2) % stride)/2.0 + grid_margin\n",
    "\n",
    "    object_grid_locations = set()\n",
    "\n",
    "    for x in range(grid_width):\n",
    "        for y in range(grid_height):\n",
    "            p = (grid_offset_y + y * stride + 0.5 * stride, grid_offset_x + x * stride + 0.5 * stride)\n",
    "            w = extract_window(mask, p, stride)\n",
    "\n",
    "            print(np.sum(w))\n",
    "            if np.sum(w) >= stride * stride * 0.3:\n",
    "                object_grid_locations.add((y, x))\n",
    "\n",
    "    # print('len(object_grid_locations)', len(object_grid_locations))\n",
    "\n",
    "    kp = orb.detect(cv2.cvtColor(frame, cv2.COLOR_BGR2GRAY), None)\n",
    "\n",
    "    # print('object_grid_locations', object_grid_locations)\n",
    "\n",
    "    grid = dict()\n",
    "\n",
    "    \n",
    "    for k in kp:\n",
    "        p = (k.pt[0], k.pt[1])\n",
    "        g = (int(math.floor((p[0]-grid_offset_y)/stride)), int(math.floor((p[1]-grid_offset_x)/stride)))\n",
    "\n",
    "        # print(g)\n",
    "\n",
    "        if g in object_grid_locations:\n",
    "            if g in grid:\n",
    "                grid[g].append(p)\n",
    "            else:\n",
    "                grid[g] = [p]\n",
    "\n",
    "    # print('len(grid)', len(grid))\n",
    "    return grid\n",
    "\n",
    "\n",
    "def first_pos(kp_grid):\n",
    "    loc = random.choice(list(kp_grid.keys()))\n",
    "    return loc, random.choice(kp_grid[loc])\n",
    "\n",
    "\n",
    "def next_pos(kp_grid, shape, g_pos, walk_t, walk_length, stride):\n",
    "    \n",
    "    if (g_pos is not None) and walk_t < (walk_length-1):\n",
    "\n",
    "        for rad in range(1, 3):\n",
    "            rad_grid = get_rad_grid(g_pos, rad, shape, stride)\n",
    "\n",
    "            if len(rad_grid) == 0:\n",
    "                print(\"frame empty?\")\n",
    "                break\n",
    "\n",
    "            random.shuffle(rad_grid)\n",
    "\n",
    "            for loc in rad_grid:\n",
    "                if loc in kp_grid:\n",
    "                    return loc, random.choice(kp_grid[loc]), True\n",
    "    \n",
    "    loc, pos = first_pos(kp_grid)\n",
    "    return loc, pos, False\n",
    "\n",
    "\n",
    "def search(image_files, mask_files, db_path, params):\n",
    "    memory_graph = MemoryGraph(db_path, params)\n",
    "\n",
    "    cnn = ShufflePatchFeatureExtractor(\"/Users/racoon/Desktop/variation_2b_migrated_0135_0.001_1.4328_63.80.pt\")\n",
    "    # cnn = vgg16.VGG16(weights=\"imagenet\", include_top=False, input_shape=(32, 32, 3))\n",
    "    orb = cv2.ORB_create(nfeatures=100000, fastThreshold=7)\n",
    "\n",
    "    return [search_file(image_files[i], mask_files[i], memory_graph, cnn, orb, params) for i in range(len(image_files))]\n",
    "\n",
    "\n",
    "## get the k nearest neighbors for the given input image\n",
    "def search_file(image_file, mask_file, memory_graph, cnn, orb, params):\n",
    "    print(\"search\", image_file, mask_file)\n",
    "\n",
    "    pil_image = Image.open(image_file).convert('RGB')\n",
    "    pil_image = pil_image.resize((int(round(pil_image.size[0]/3)), int(round(pil_image.size[1]/3))))\n",
    "    image = np.array(pil_image)\n",
    "\n",
    "    pil_mask = Image.open(mask_file).convert('1')\n",
    "    pil_mask = pil_mask.resize((int(round(pil_mask.size[0]/3)), int(round(pil_mask.size[1]/3))))\n",
    "    mask = np.array(pil_mask)\n",
    "\n",
    "    g_pos = [None for _ in range(params[\"search_walker_count\"])]\n",
    "    pos = [None for _ in range(params[\"search_walker_count\"])]\n",
    "    adj = [False for _ in range(params[\"search_walker_count\"])]\n",
    "    walk_t = [0 for _ in range(params[\"search_walker_count\"])]\n",
    "    cluster_feats = [[] for _ in range(params[\"search_walker_count\"])]\n",
    "    cluster_positions = [[] for _ in range(params[\"search_walker_count\"])]\n",
    "    cluster_patches = [[] for _ in range(params[\"search_walker_count\"])]\n",
    "\n",
    "    image_shape = image.shape\n",
    "    kp_grid = key_point_grid(orb, image, mask, params[\"grid_margin\"], params[\"stride\"])\n",
    "\n",
    "\n",
    "    observation_ids = set()\n",
    "\n",
    "    done = False\n",
    "\n",
    "    for t in range(params[\"search_max_frames\"]):\n",
    "        if t % params[\"search_walk_length\"] == 0:\n",
    "            print(\"frame\", t)\n",
    "\n",
    "        for i in range(params[\"search_walker_count\"]):\n",
    "            g_pos[i], pos[i], adj[i] = next_pos(kp_grid, image_shape, g_pos[i], walk_t[i], params[\"search_walk_length\"], params[\"stride\"])\n",
    "            if t == 0:\n",
    "                adj[i] = True\n",
    "            if adj[i]:\n",
    "                walk_t[i] += 1\n",
    "            else:\n",
    "                walk_t[i] = 0\n",
    "\n",
    "        patches = extract_windows(image, pos, params[\"window_size\"])\n",
    "        windows = patches.astype(np.float64)\n",
    "\n",
    "        feats = cnn.evalRGB(windows)\n",
    "\n",
    "        # preprocess_input(windows)\n",
    "        # feats = cnn.predict(windows)\n",
    "\n",
    "        feats = feats.reshape((windows.shape[0], 512))\n",
    "        \n",
    "        for i in range(params[\"search_walker_count\"]):\n",
    "            cluster_feats[i].append(feats[i])\n",
    "            cluster_positions[i].append(pos[i])\n",
    "            cluster_patches[i].append(patches[i])\n",
    "\n",
    "\n",
    "        for i in range(params[\"search_walker_count\"]):\n",
    "            if (not adj[i] or done) and len(cluster_feats[i]) > 0:\n",
    "\n",
    "                ########\n",
    "                \n",
    "                similar_clusters = memory_graph.search_group_foo(cluster_feats[i], params)\n",
    "                node_ids = set(chain.from_iterable(similar_clusters))\n",
    "                observation_ids.update(memory_graph.observations_for_nodes(node_ids))\n",
    "                \n",
    "                ########\n",
    "\n",
    "                cluster_feats[i] = []\n",
    "                cluster_positions[i] = []\n",
    "                cluster_patches[i] = []\n",
    "        \n",
    "        if done:\n",
    "            break\n",
    "\n",
    "    observations = memory_graph.get_observations(observation_ids)\n",
    "    result = set([o[\"file\"] for o in observations])\n",
    "    print(result)\n",
    "    return result"
   ]
  },
  {
   "cell_type": "code",
   "execution_count": null,
   "metadata": {},
   "outputs": [],
   "source": [
    "image_files = glob(\"dataset_100/test/*/*.jpg\")\n",
    "mask_files = glob(\"dataset_100/test/*/*.mask.png\")\n",
    "\n",
    "image_files.sort()\n",
    "mask_files.sort()"
   ]
  },
  {
   "cell_type": "code",
   "execution_count": null,
   "metadata": {},
   "outputs": [],
   "source": [
    "db_path = \"../../data/variations_test.db\""
   ]
  },
  {
   "cell_type": "code",
   "execution_count": null,
   "metadata": {},
   "outputs": [],
   "source": [
    "memory_graph = MemoryGraph(db_path, PARAMETERS)\n",
    "\n",
    "cnn = ShufflePatchFeatureExtractor(\"/Users/racoon/Desktop/variation_2b_migrated_0135_0.001_1.4328_63.80.pt\")\n",
    "# cnn = vgg16.VGG16(weights=\"imagenet\", include_top=False, input_shape=(32, 32, 3))\n",
    "orb = cv2.ORB_create(nfeatures=100000, fastThreshold=7)"
   ]
  },
  {
   "cell_type": "code",
   "execution_count": null,
   "metadata": {},
   "outputs": [],
   "source": [
    "image_file = image_files[15]\n",
    "mask_file = mask_files[15]\n",
    "\n",
    "pil_image = Image.open(image_file).convert('RGB')\n",
    "pil_image = pil_image.resize((int(round(pil_image.size[0]/3)), int(round(pil_image.size[1]/3))))\n",
    "image = np.array(pil_image)\n",
    "\n",
    "pil_mask = Image.open(mask_file).convert('1')\n",
    "pil_mask = pil_mask.resize((int(round(pil_mask.size[0]/3)), int(round(pil_mask.size[1]/3))))\n",
    "mask = np.array(pil_mask)"
   ]
  },
  {
   "cell_type": "code",
   "execution_count": null,
   "metadata": {},
   "outputs": [],
   "source": [
    "params = PARAMETERS"
   ]
  },
  {
   "cell_type": "code",
   "execution_count": null,
   "metadata": {},
   "outputs": [],
   "source": [
    "patches = extract_windows(image, [(100,100)], params[\"window_size\"])\n",
    "windows = patches.astype(np.float64)"
   ]
  },
  {
   "cell_type": "code",
   "execution_count": null,
   "metadata": {},
   "outputs": [],
   "source": [
    "import ipyplot\n",
    "ipyplot.plot_images(patches)"
   ]
  },
  {
   "cell_type": "code",
   "execution_count": null,
   "metadata": {},
   "outputs": [],
   "source": [
    "feats = cnn.evalRGB(windows)\n",
    "feats = feats.reshape((windows.shape[0], 512))"
   ]
  },
  {
   "cell_type": "code",
   "execution_count": null,
   "metadata": {},
   "outputs": [],
   "source": [
    "similar_clusters = memory_graph.search_group_foo([feats[0]], params)"
   ]
  },
  {
   "cell_type": "code",
   "execution_count": null,
   "metadata": {},
   "outputs": [],
   "source": [
    "node_ids = set(chain.from_iterable(similar_clusters))\n",
    "observation_ids = memory_graph.observations_for_nodes(node_ids)\n",
    "observations = memory_graph.get_observations(observation_ids)\n",
    "print(len(observations))"
   ]
  },
  {
   "cell_type": "code",
   "execution_count": null,
   "metadata": {},
   "outputs": [],
   "source": [
    "patches = []\n",
    "\n",
    "for o in observations:\n",
    "    pil_image = Image.open(o['file']).convert('RGB')\n",
    "    pil_image = pil_image.resize((int(round(pil_image.size[0]/3)), int(round(pil_image.size[1]/3))))\n",
    "    image = np.array(pil_image)\n",
    "    patches.append(extract_windows(image, [(o['y'],o['x'])], params[\"window_size\"])[0])"
   ]
  },
  {
   "cell_type": "code",
   "execution_count": null,
   "metadata": {},
   "outputs": [],
   "source": [
    "patches"
   ]
  },
  {
   "cell_type": "code",
   "execution_count": null,
   "metadata": {},
   "outputs": [],
   "source": [
    "print(len(observations))"
   ]
  },
  {
   "cell_type": "code",
   "execution_count": null,
   "metadata": {},
   "outputs": [],
   "source": [
    "ipyplot.plot_images(patches)"
   ]
  },
  {
   "cell_type": "code",
   "execution_count": null,
   "metadata": {},
   "outputs": [],
   "source": []
  }
 ],
 "metadata": {
  "kernelspec": {
   "display_name": "Python 3",
   "language": "python",
   "name": "python3"
  },
  "language_info": {
   "codemirror_mode": {
    "name": "ipython",
    "version": 3
   },
   "file_extension": ".py",
   "mimetype": "text/x-python",
   "name": "python",
   "nbconvert_exporter": "python",
   "pygments_lexer": "ipython3",
   "version": "3.8.5"
  }
 },
 "nbformat": 4,
 "nbformat_minor": 4
}
