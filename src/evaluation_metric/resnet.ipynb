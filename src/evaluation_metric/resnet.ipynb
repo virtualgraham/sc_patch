{
 "cells": [
  {
   "cell_type": "code",
   "execution_count": null,
   "metadata": {},
   "outputs": [],
   "source": [
    "import torch\n",
    "import torchvision\n",
    "import torch.nn as nn"
   ]
  },
  {
   "cell_type": "code",
   "execution_count": null,
   "metadata": {},
   "outputs": [],
   "source": [
    "checkpoint = torch.load('/Users/racoon/Desktop/moco_v2_800ep_pretrain.pth.tar', map_location=\"cpu\")\n",
    "model = torchvision.models.resnet50()\n",
    "\n",
    "# rename moco pre-trained keys\n",
    "state_dict = checkpoint['state_dict']\n",
    "for k in list(state_dict.keys()):\n",
    "    # retain only encoder_q up to before the embedding layer\n",
    "    if k.startswith('module.encoder_q') and not k.startswith('module.encoder_q.fc'):\n",
    "        # remove prefix\n",
    "        state_dict[k[len(\"module.encoder_q.\"):]] = state_dict[k]\n",
    "    # delete renamed or unused k\n",
    "    del state_dict[k]\n",
    "\n",
    "model.load_state_dict(state_dict, strict=False)   \n",
    "\n",
    "modules=list(model.children())[:-1]\n",
    "model=nn.Sequential(*modules)\n",
    "\n",
    "for p in model.parameters():\n",
    "    p.requires_grad = False\n",
    "\n",
    "model.eval()"
   ]
  },
  {
   "cell_type": "code",
   "execution_count": null,
   "metadata": {},
   "outputs": [],
   "source": [
    "class ShufflePatchFeatureExtractor():\n",
    "    def __init__(self):\n",
    "        checkpoint = torch.load('/Users/racoon/Desktop/moco_v2_800ep_pretrain.pth.tar', map_location=\"cpu\")\n",
    "        model = torchvision.models.resnet50()\n",
    "\n",
    "        # rename moco pre-trained keys\n",
    "        state_dict = checkpoint['state_dict']\n",
    "        for k in list(state_dict.keys()):\n",
    "            # retain only encoder_q up to before the embedding layer\n",
    "            if k.startswith('module.encoder_q') and not k.startswith('module.encoder_q.fc'):\n",
    "                # remove prefix\n",
    "                state_dict[k[len(\"module.encoder_q.\"):]] = state_dict[k]\n",
    "            # delete renamed or unused k\n",
    "            del state_dict[k]\n",
    "\n",
    "        model.load_state_dict(state_dict, strict=False)   \n",
    "\n",
    "        modules=list(model.children())[:-1]\n",
    "        model=nn.Sequential(*modules)\n",
    "\n",
    "        for p in model.parameters():\n",
    "            p.requires_grad = False\n",
    "\n",
    "        model.eval()\n",
    "\n",
    "        self.model = model\n",
    "        \n",
    "        self.transform_batch = transforms.Compose([\n",
    "            ToTensor(),\n",
    "            Normalize((0.485, 0.456, 0.406), (0.229, 0.224, 0.225))]\n",
    "        )\n",
    "               \n",
    "    # Numpy array of size (N, H, W, C)\n",
    "    # Used for PIL images\n",
    "    def evalRGB(self, patches):\n",
    "        patches = torch.from_numpy(patches)\n",
    "        patches = patches.permute(0, 3, 1, 2)\n",
    "        patches = self.transform_batch(patches)\n",
    "        output = self.model(patches.to(device))\n",
    "        return output.cpu().detach().numpy()\n",
    "\n",
    "    # Numpy array of size (N, H, W, C)\n",
    "    # Used for CV2 images\n",
    "    def evalBGR(self, patches):\n",
    "        patches = patches[...,::-1].copy()\n",
    "        return self.evalRGB(patches)"
   ]
  },
  {
   "cell_type": "code",
   "execution_count": null,
   "metadata": {},
   "outputs": [],
   "source": []
  }
 ],
 "metadata": {
  "kernelspec": {
   "display_name": "Python 3",
   "language": "python",
   "name": "python3"
  },
  "language_info": {
   "codemirror_mode": {
    "name": "ipython",
    "version": 3
   },
   "file_extension": ".py",
   "mimetype": "text/x-python",
   "name": "python",
   "nbconvert_exporter": "python",
   "pygments_lexer": "ipython3",
   "version": "3.8.5"
  }
 },
 "nbformat": 4,
 "nbformat_minor": 4
}
